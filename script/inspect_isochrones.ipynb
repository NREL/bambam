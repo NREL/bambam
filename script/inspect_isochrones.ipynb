{
 "cells": [
  {
   "cell_type": "code",
   "execution_count": 2,
   "metadata": {},
   "outputs": [],
   "source": [
    "import pandas as pd\n",
    "import geopandas as gpd\n",
    "import matplotlib.pyplot as plt\n",
    "import json\n",
    "from shapely import wkt, wkb\n",
    "from shapely.geometry import Polygon\n",
    "import contextily as ctx\n",
    "import os\n",
    "\n",
    "def get_geom(row, t):\n",
    "    \"\"\"\n",
    "    decode geometries and zero-out any invalid geometries\n",
    "    \"\"\"\n",
    "    try:\n",
    "        return wkb.loads(row[f'isochrone_{t}'], hex=True)\n",
    "    except:\n",
    "        return Polygon()\n",
    "    \n",
    "def get_opps(row, t):\n",
    "    return row.get(f'opps_jobs_{t}', 0.0)"
   ]
  },
  {
   "cell_type": "code",
   "execution_count": 3,
   "metadata": {},
   "outputs": [],
   "source": [
    "opps = pd.read_csv(\"/Users/rfitzger/data/mep/mep3/output/2024-09-30-natl-res6/natl_opportunities.csv\")"
   ]
  },
  {
   "cell_type": "code",
   "execution_count": 4,
   "metadata": {},
   "outputs": [],
   "source": [
    "# os.mkdir(\"/Users/rfitzger/data/mep/mep3/output/2024-09-30-natl-res6/iso_img\")"
   ]
  },
  {
   "cell_type": "code",
   "execution_count": 5,
   "metadata": {},
   "outputs": [
    {
     "name": "stderr",
     "output_type": "stream",
     "text": [
      "/Users/rfitzger/miniforge3/envs/geo/lib/python3.11/site-packages/contextily/tile.py:645: UserWarning: The inferred zoom level of 22 is not valid for the current tile provider (valid zooms: 0 - 20).\n",
      "  warnings.warn(msg)\n",
      "/Users/rfitzger/miniforge3/envs/geo/lib/python3.11/site-packages/contextily/tile.py:645: UserWarning: The inferred zoom level of 22 is not valid for the current tile provider (valid zooms: 0 - 20).\n",
      "  warnings.warn(msg)\n",
      "/Users/rfitzger/miniforge3/envs/geo/lib/python3.11/site-packages/contextily/tile.py:645: UserWarning: The inferred zoom level of 21 is not valid for the current tile provider (valid zooms: 0 - 20).\n",
      "  warnings.warn(msg)\n",
      "/Users/rfitzger/miniforge3/envs/geo/lib/python3.11/site-packages/contextily/tile.py:645: UserWarning: The inferred zoom level of 21 is not valid for the current tile provider (valid zooms: 0 - 20).\n",
      "  warnings.warn(msg)\n",
      "/Users/rfitzger/miniforge3/envs/geo/lib/python3.11/site-packages/contextily/tile.py:645: UserWarning: The inferred zoom level of 21 is not valid for the current tile provider (valid zooms: 0 - 20).\n",
      "  warnings.warn(msg)\n",
      "/Users/rfitzger/miniforge3/envs/geo/lib/python3.11/site-packages/contextily/tile.py:645: UserWarning: The inferred zoom level of 21 is not valid for the current tile provider (valid zooms: 0 - 20).\n",
      "  warnings.warn(msg)\n",
      "/Users/rfitzger/miniforge3/envs/geo/lib/python3.11/site-packages/contextily/tile.py:645: UserWarning: The inferred zoom level of 21 is not valid for the current tile provider (valid zooms: 0 - 20).\n",
      "  warnings.warn(msg)\n",
      "/Users/rfitzger/miniforge3/envs/geo/lib/python3.11/site-packages/contextily/tile.py:645: UserWarning: The inferred zoom level of 21 is not valid for the current tile provider (valid zooms: 0 - 20).\n",
      "  warnings.warn(msg)\n",
      "/Users/rfitzger/miniforge3/envs/geo/lib/python3.11/site-packages/contextily/tile.py:645: UserWarning: The inferred zoom level of 21 is not valid for the current tile provider (valid zooms: 0 - 20).\n",
      "  warnings.warn(msg)\n",
      "/Users/rfitzger/miniforge3/envs/geo/lib/python3.11/site-packages/contextily/tile.py:645: UserWarning: The inferred zoom level of 21 is not valid for the current tile provider (valid zooms: 0 - 20).\n",
      "  warnings.warn(msg)\n",
      "/Users/rfitzger/miniforge3/envs/geo/lib/python3.11/site-packages/contextily/tile.py:645: UserWarning: The inferred zoom level of 21 is not valid for the current tile provider (valid zooms: 0 - 20).\n",
      "  warnings.warn(msg)\n",
      "/Users/rfitzger/miniforge3/envs/geo/lib/python3.11/site-packages/contextily/tile.py:645: UserWarning: The inferred zoom level of 21 is not valid for the current tile provider (valid zooms: 0 - 20).\n",
      "  warnings.warn(msg)\n",
      "/Users/rfitzger/miniforge3/envs/geo/lib/python3.11/site-packages/contextily/tile.py:645: UserWarning: The inferred zoom level of 21 is not valid for the current tile provider (valid zooms: 0 - 20).\n",
      "  warnings.warn(msg)\n",
      "/Users/rfitzger/miniforge3/envs/geo/lib/python3.11/site-packages/contextily/tile.py:645: UserWarning: The inferred zoom level of 21 is not valid for the current tile provider (valid zooms: 0 - 20).\n",
      "  warnings.warn(msg)\n",
      "/Users/rfitzger/miniforge3/envs/geo/lib/python3.11/site-packages/contextily/tile.py:645: UserWarning: The inferred zoom level of 21 is not valid for the current tile provider (valid zooms: 0 - 20).\n",
      "  warnings.warn(msg)\n",
      "/Users/rfitzger/miniforge3/envs/geo/lib/python3.11/site-packages/contextily/tile.py:645: UserWarning: The inferred zoom level of 21 is not valid for the current tile provider (valid zooms: 0 - 20).\n",
      "  warnings.warn(msg)\n",
      "/Users/rfitzger/miniforge3/envs/geo/lib/python3.11/site-packages/contextily/tile.py:645: UserWarning: The inferred zoom level of 21 is not valid for the current tile provider (valid zooms: 0 - 20).\n",
      "  warnings.warn(msg)\n",
      "/Users/rfitzger/miniforge3/envs/geo/lib/python3.11/site-packages/contextily/tile.py:645: UserWarning: The inferred zoom level of 21 is not valid for the current tile provider (valid zooms: 0 - 20).\n",
      "  warnings.warn(msg)\n",
      "/Users/rfitzger/miniforge3/envs/geo/lib/python3.11/site-packages/contextily/tile.py:645: UserWarning: The inferred zoom level of 21 is not valid for the current tile provider (valid zooms: 0 - 20).\n",
      "  warnings.warn(msg)\n",
      "/Users/rfitzger/miniforge3/envs/geo/lib/python3.11/site-packages/contextily/tile.py:645: UserWarning: The inferred zoom level of 21 is not valid for the current tile provider (valid zooms: 0 - 20).\n",
      "  warnings.warn(msg)\n",
      "/Users/rfitzger/miniforge3/envs/geo/lib/python3.11/site-packages/contextily/tile.py:645: UserWarning: The inferred zoom level of 21 is not valid for the current tile provider (valid zooms: 0 - 20).\n",
      "  warnings.warn(msg)\n",
      "/Users/rfitzger/miniforge3/envs/geo/lib/python3.11/site-packages/contextily/tile.py:645: UserWarning: The inferred zoom level of 21 is not valid for the current tile provider (valid zooms: 0 - 20).\n",
      "  warnings.warn(msg)\n",
      "/Users/rfitzger/miniforge3/envs/geo/lib/python3.11/site-packages/contextily/tile.py:645: UserWarning: The inferred zoom level of 21 is not valid for the current tile provider (valid zooms: 0 - 20).\n",
      "  warnings.warn(msg)\n",
      "/Users/rfitzger/miniforge3/envs/geo/lib/python3.11/site-packages/contextily/tile.py:645: UserWarning: The inferred zoom level of 21 is not valid for the current tile provider (valid zooms: 0 - 20).\n",
      "  warnings.warn(msg)\n",
      "/Users/rfitzger/miniforge3/envs/geo/lib/python3.11/site-packages/contextily/tile.py:645: UserWarning: The inferred zoom level of 21 is not valid for the current tile provider (valid zooms: 0 - 20).\n",
      "  warnings.warn(msg)\n",
      "/Users/rfitzger/miniforge3/envs/geo/lib/python3.11/site-packages/contextily/tile.py:645: UserWarning: The inferred zoom level of 21 is not valid for the current tile provider (valid zooms: 0 - 20).\n",
      "  warnings.warn(msg)\n",
      "/Users/rfitzger/miniforge3/envs/geo/lib/python3.11/site-packages/contextily/tile.py:645: UserWarning: The inferred zoom level of 21 is not valid for the current tile provider (valid zooms: 0 - 20).\n",
      "  warnings.warn(msg)\n",
      "/Users/rfitzger/miniforge3/envs/geo/lib/python3.11/site-packages/contextily/tile.py:645: UserWarning: The inferred zoom level of 21 is not valid for the current tile provider (valid zooms: 0 - 20).\n",
      "  warnings.warn(msg)\n",
      "/Users/rfitzger/miniforge3/envs/geo/lib/python3.11/site-packages/contextily/tile.py:645: UserWarning: The inferred zoom level of 21 is not valid for the current tile provider (valid zooms: 0 - 20).\n",
      "  warnings.warn(msg)\n",
      "/Users/rfitzger/miniforge3/envs/geo/lib/python3.11/site-packages/contextily/tile.py:645: UserWarning: The inferred zoom level of 21 is not valid for the current tile provider (valid zooms: 0 - 20).\n",
      "  warnings.warn(msg)\n",
      "/Users/rfitzger/miniforge3/envs/geo/lib/python3.11/site-packages/contextily/tile.py:645: UserWarning: The inferred zoom level of 21 is not valid for the current tile provider (valid zooms: 0 - 20).\n",
      "  warnings.warn(msg)\n",
      "/Users/rfitzger/miniforge3/envs/geo/lib/python3.11/site-packages/contextily/tile.py:645: UserWarning: The inferred zoom level of 21 is not valid for the current tile provider (valid zooms: 0 - 20).\n",
      "  warnings.warn(msg)\n",
      "/Users/rfitzger/miniforge3/envs/geo/lib/python3.11/site-packages/contextily/tile.py:645: UserWarning: The inferred zoom level of 21 is not valid for the current tile provider (valid zooms: 0 - 20).\n",
      "  warnings.warn(msg)\n",
      "/Users/rfitzger/miniforge3/envs/geo/lib/python3.11/site-packages/contextily/tile.py:645: UserWarning: The inferred zoom level of 21 is not valid for the current tile provider (valid zooms: 0 - 20).\n",
      "  warnings.warn(msg)\n",
      "/Users/rfitzger/miniforge3/envs/geo/lib/python3.11/site-packages/contextily/tile.py:645: UserWarning: The inferred zoom level of 21 is not valid for the current tile provider (valid zooms: 0 - 20).\n",
      "  warnings.warn(msg)\n",
      "/Users/rfitzger/miniforge3/envs/geo/lib/python3.11/site-packages/contextily/tile.py:645: UserWarning: The inferred zoom level of 21 is not valid for the current tile provider (valid zooms: 0 - 20).\n",
      "  warnings.warn(msg)\n",
      "/Users/rfitzger/miniforge3/envs/geo/lib/python3.11/site-packages/contextily/tile.py:645: UserWarning: The inferred zoom level of 21 is not valid for the current tile provider (valid zooms: 0 - 20).\n",
      "  warnings.warn(msg)\n",
      "/Users/rfitzger/miniforge3/envs/geo/lib/python3.11/site-packages/contextily/tile.py:645: UserWarning: The inferred zoom level of 21 is not valid for the current tile provider (valid zooms: 0 - 20).\n",
      "  warnings.warn(msg)\n",
      "/Users/rfitzger/miniforge3/envs/geo/lib/python3.11/site-packages/contextily/tile.py:645: UserWarning: The inferred zoom level of 21 is not valid for the current tile provider (valid zooms: 0 - 20).\n",
      "  warnings.warn(msg)\n",
      "/Users/rfitzger/miniforge3/envs/geo/lib/python3.11/site-packages/contextily/tile.py:645: UserWarning: The inferred zoom level of 21 is not valid for the current tile provider (valid zooms: 0 - 20).\n",
      "  warnings.warn(msg)\n",
      "/Users/rfitzger/miniforge3/envs/geo/lib/python3.11/site-packages/contextily/tile.py:645: UserWarning: The inferred zoom level of 21 is not valid for the current tile provider (valid zooms: 0 - 20).\n",
      "  warnings.warn(msg)\n",
      "/Users/rfitzger/miniforge3/envs/geo/lib/python3.11/site-packages/contextily/tile.py:645: UserWarning: The inferred zoom level of 21 is not valid for the current tile provider (valid zooms: 0 - 20).\n",
      "  warnings.warn(msg)\n",
      "/Users/rfitzger/miniforge3/envs/geo/lib/python3.11/site-packages/contextily/tile.py:645: UserWarning: The inferred zoom level of 21 is not valid for the current tile provider (valid zooms: 0 - 20).\n",
      "  warnings.warn(msg)\n"
     ]
    },
    {
     "ename": "",
     "evalue": "",
     "output_type": "error",
     "traceback": [
      "\u001b[1;31mCannot execute code, session has been disposed. Please try restarting the Kernel."
     ]
    },
    {
     "ename": "",
     "evalue": "",
     "output_type": "error",
     "traceback": [
      "\u001b[1;31mCannot execute code, session has been disposed. Please try restarting the Kernel. \n",
      "\u001b[1;31mView Jupyter <a href='command:jupyter.viewOutput'>log</a> for further details."
     ]
    }
   ],
   "source": [
    "i = 0\n",
    "for _, row in opps.iterrows():\n",
    "    hex_id = row['hex_id']\n",
    "    mode = row['mode']\n",
    "    plot_file = f'/Users/rfitzger/data/mep/mep3/output/2024-09-30-natl-res6/iso_img/isos-{hex_id}-{mode}.png'\n",
    "    if os.path.exists(plot_file):\n",
    "        pass\n",
    "    row_geoms = [get_geom(row, t) for t in [40,30,20,10]]\n",
    "    row_opps = [get_opps(row, t) for t in [40,30,20,10]]\n",
    "    try:\n",
    "        plot_df = gpd.GeoDataFrame({\"geometry\": row_geoms, \"opps\": row_opps}, crs=\"EPSG:4326\")\n",
    "        fig, ax = plt.subplots()\n",
    "        plot_df.to_crs(\"EPSG:3857\").plot('opps', ax=ax, alpha=0.3, edgecolor='k', linewidth=0.25, cmap='cool')\n",
    "        ax.set_xticks([])\n",
    "        ax.set_yticks([])\n",
    "        ctx.add_basemap(ax=ax, source=ctx.providers.USGS.USTopo)\n",
    "        fig.savefig(plot_file, dpi=300, bbox_inches='tight')\n",
    "    except:\n",
    "        pass\n",
    "    plt.close()\n",
    "    i += 1"
   ]
  },
  {
   "cell_type": "code",
   "execution_count": null,
   "metadata": {},
   "outputs": [],
   "source": [
    "i"
   ]
  },
  {
   "cell_type": "code",
   "execution_count": null,
   "metadata": {},
   "outputs": [],
   "source": []
  }
 ],
 "metadata": {
  "kernelspec": {
   "display_name": "geo",
   "language": "python",
   "name": "python3"
  },
  "language_info": {
   "codemirror_mode": {
    "name": "ipython",
    "version": 3
   },
   "file_extension": ".py",
   "mimetype": "text/x-python",
   "name": "python",
   "nbconvert_exporter": "python",
   "pygments_lexer": "ipython3",
   "version": "3.11.0"
  }
 },
 "nbformat": 4,
 "nbformat_minor": 2
}
