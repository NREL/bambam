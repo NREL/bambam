{
 "cells": [
  {
   "cell_type": "markdown",
   "metadata": {},
   "source": [
    "# 1. download places"
   ]
  },
  {
   "cell_type": "code",
   "execution_count": 4,
   "metadata": {},
   "outputs": [],
   "source": [
    "import duckdb\n"
   ]
  },
  {
   "cell_type": "code",
   "execution_count": null,
   "metadata": {},
   "outputs": [],
   "source": [
    "with open(\"/Users/rfitzger/data/census/us-extent.txt\") as f:\n",
    "    boundary = f.read()\n",
    "places_file = \"/Users/rfitzger/data/mep/mep3/input/opportunities/us-places.csv\""
   ]
  },
  {
   "cell_type": "code",
   "execution_count": null,
   "metadata": {},
   "outputs": [],
   "source": [
    "query = f\"\"\"\n",
    "LOAD spatial; -- noqa\n",
    "LOAD httpfs;  -- noqa\n",
    "-- Access the data on AWS in this example\n",
    "SET s3_region='us-west-2';\n",
    "\n",
    "COPY (\n",
    "    SELECT\n",
    "       id,\n",
    "       version,\n",
    "    -- We are casting these columns to JSON in order to ensure compatibility with our GeoJSON output.\n",
    "    -- These conversions may be not necessary for other output formats.\n",
    "       CAST(names AS JSON) AS names,\n",
    "       CAST(categories AS JSON) AS categories,\n",
    "       confidence,\n",
    "      --  CAST(websites AS JSON) AS websites,\n",
    "      --  CAST(socials AS JSON) AS socials,\n",
    "      --  CAST(emails AS JSON) AS emails,\n",
    "      --  CAST(phones AS JSON) AS phones,\n",
    "      --  CAST(brand AS JSON) AS brand,\n",
    "       CAST(addresses AS JSON) AS addresses,\n",
    "       CAST(sources AS JSON) AS sources,\n",
    "       geometry AS geometry -- DuckDB v.1.1.0 will autoload this as a `geometry` type\n",
    "FROM read_parquet('s3://overturemaps-us-west-2/release/2025-02-19.0/theme=places/*/*')\n",
    "WHERE\n",
    "   ST_Contains('{boundary}'::GEOMETRY, geometry)\n",
    ") TO '{places_file}';\n",
    "\"\"\""
   ]
  },
  {
   "cell_type": "code",
   "execution_count": 9,
   "metadata": {},
   "outputs": [
    {
     "name": "stdout",
     "output_type": "stream",
     "text": [
      "None\n"
     ]
    }
   ],
   "source": [
    "print(duckdb.sql(query))"
   ]
  },
  {
   "cell_type": "markdown",
   "metadata": {},
   "source": [
    "# 2. process into opportunity dataset\n",
    "the expected schema is: ``"
   ]
  },
  {
   "cell_type": "code",
   "execution_count": null,
   "metadata": {},
   "outputs": [],
   "source": []
  }
 ],
 "metadata": {
  "kernelspec": {
   "display_name": "geo",
   "language": "python",
   "name": "python3"
  },
  "language_info": {
   "codemirror_mode": {
    "name": "ipython",
    "version": 3
   },
   "file_extension": ".py",
   "mimetype": "text/x-python",
   "name": "python",
   "nbconvert_exporter": "python",
   "pygments_lexer": "ipython3",
   "version": "3.11.0"
  }
 },
 "nbformat": 4,
 "nbformat_minor": 2
}
