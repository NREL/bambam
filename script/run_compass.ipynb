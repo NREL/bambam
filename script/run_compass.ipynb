{
 "cells": [
  {
   "cell_type": "code",
   "execution_count": 1,
   "metadata": {},
   "outputs": [],
   "source": [
    "from nrel.routee.compass import CompassApp"
   ]
  },
  {
   "cell_type": "code",
   "execution_count": 7,
   "metadata": {},
   "outputs": [
    {
     "name": "stderr",
     "output_type": "stream",
     "text": [
      "\n"
     ]
    }
   ],
   "source": [
    "app = CompassApp.from_config_file(\"/Users/rfitzger/dev/nrel/bam/bambam/configuration/test.toml\")"
   ]
  },
  {
   "cell_type": "code",
   "execution_count": 10,
   "metadata": {},
   "outputs": [
    {
     "name": "stderr",
     "output_type": "stream",
     "text": [
      "input plugins: 100%|██████████| 1/1 [00:00<00:00, 98677.72it/s]\n",
      "search: 100%|██████████| 1/1 [00:00<00:00, 323.92it/s]\n"
     ]
    }
   ],
   "source": [
    "result = app.run({\n",
    "    \"origin_x\": -105.1718363,\n",
    "    \"origin_y\": 39.8225714,\n",
    "    \"model_name\": \"2012_Ford_Focus\"\n",
    "})"
   ]
  },
  {
   "cell_type": "code",
   "execution_count": 11,
   "metadata": {},
   "outputs": [
    {
     "data": {
      "text/plain": [
       "{'request': {'origin_x': -105.1718363,\n",
       "  'origin_y': 39.8225714,\n",
       "  'model_name': '2012_Ford_Focus',\n",
       "  'origin_edge': 212},\n",
       " 'output_plugin_executed_time': '2025-02-18T14:31:38.293561-07:00',\n",
       " 'search_executed_time': '2025-02-18T14:31:38.290683-07:00',\n",
       " 'search_runtime': '0:00:00.002',\n",
       " 'route_edges': 0,\n",
       " 'tree_size_count': 3,\n",
       " 'search_result_size_mib': 0.000244140625,\n",
       " 'iterations': 4,\n",
       " 'route': None}"
      ]
     },
     "execution_count": 11,
     "metadata": {},
     "output_type": "execute_result"
    }
   ],
   "source": [
    "result"
   ]
  },
  {
   "cell_type": "code",
   "execution_count": null,
   "metadata": {},
   "outputs": [],
   "source": []
  }
 ],
 "metadata": {
  "kernelspec": {
   "display_name": "routee-compass",
   "language": "python",
   "name": "python3"
  },
  "language_info": {
   "codemirror_mode": {
    "name": "ipython",
    "version": 3
   },
   "file_extension": ".py",
   "mimetype": "text/x-python",
   "name": "python",
   "nbconvert_exporter": "python",
   "pygments_lexer": "ipython3",
   "version": "3.11.9"
  }
 },
 "nbformat": 4,
 "nbformat_minor": 2
}
